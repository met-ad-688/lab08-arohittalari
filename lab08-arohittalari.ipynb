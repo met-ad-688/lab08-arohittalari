{
 "cells": [
  {
   "cell_type": "code",
   "execution_count": null,
   "metadata": {},
   "outputs": [],
   "source": [
    "from pyspark.sql import SparkSession\n",
    "from pyspark.ml.feature import StringIndexer, OneHotEncoder, VectorAssembler\n",
    "from pyspark.ml import Pipeline\n",
    "from pyspark.ml.regression import LinearRegression\n",
    "import pandas as pd\n",
    "\n",
    "# Initialize Spark\n",
    "spark = SparkSession.builder.appName(\"Lightcast Salary Model\").getOrCreate()\n",
    "\n",
    "# Load data\n",
    "df = spark.read.option(\"header\", \"true\").option(\"inferSchema\", \"true\") \\\n",
    "    .csv(\"data/lightcast_job_postings.csv\")\n",
    "\n",
    "# Show schema and first few rows\n",
    "df.printSchema()\n",
    "df.select(\"SALARY\", \"MIN_YEARS_EXPERIENCE\", \"MAX_YEARS_EXPERIENCE\", \"EMPLOYMENT_TYPE_NAME\").show(5)\n",
    "\n",
    "# Filter nulls\n",
    "df_clean = df.select(\"SALARY\", \"MIN_YEARS_EXPERIENCE\", \"MAX_YEARS_EXPERIENCE\", \"EMPLOYMENT_TYPE_NAME\") \\\n",
    "             .dropna()\n",
    "\n",
    "# Encode categorical\n",
    "indexer = StringIndexer(inputCol=\"EMPLOYMENT_TYPE_NAME\", outputCol=\"EMP_TYPE_IDX\")\n",
    "encoder = OneHotEncoder(inputCols=[\"EMP_TYPE_IDX\"], outputCols=[\"EMP_TYPE_VEC\"])\n",
    "\n",
    "# Assemble final feature vector\n",
    "assembler = VectorAssembler(\n",
    "    inputCols=[\"MIN_YEARS_EXPERIENCE\", \"MAX_YEARS_EXPERIENCE\", \"EMP_TYPE_VEC\"],\n",
    "    outputCol=\"features\"\n",
    ")\n",
    "\n",
    "# Create Pipeline\n",
    "pipeline = Pipeline(stages=[indexer, encoder, assembler])\n",
    "model = pipeline.fit(df_clean)\n",
    "final_df = model.transform(df_clean).select(\"features\", \"SALARY\")\n",
    "\n",
    "# Train/Test split\n",
    "train_data, test_data = final_df.randomSplit([0.8, 0.2], seed=42)\n"
   ]
  }
 ],
 "metadata": {
  "language_info": {
   "name": "python"
  }
 },
 "nbformat": 4,
 "nbformat_minor": 2
}
